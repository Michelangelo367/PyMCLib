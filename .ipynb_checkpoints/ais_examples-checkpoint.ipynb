{
 "cells": [
  {
   "cell_type": "code",
   "execution_count": 1,
   "metadata": {},
   "outputs": [
    {
     "data": {
      "text/plain": [
       "<module 'ais' from 'C:\\\\Users\\\\HechuanWang\\\\Documents\\\\GitHub\\\\PyMCLib\\\\ais.py'>"
      ]
     },
     "execution_count": 1,
     "metadata": {},
     "output_type": "execute_result"
    }
   ],
   "source": [
    "import numpy as np\n",
    "from scipy.stats import multivariate_normal as mvn\n",
    "import matplotlib.pyplot as plt\n",
    "from tqdm import tqdm # progress bar\n",
    "\n",
    "import functions as fn # common functions\n",
    "import ais # AIS classes\n",
    "\n",
    "import importlib # force reload\n",
    "importlib.reload(fn)\n",
    "importlib.reload(ais)"
   ]
  },
  {
   "cell_type": "markdown",
   "metadata": {},
   "source": [
    "# Example of Adaptive Importance Sampling AIS methods"
   ]
  },
  {
   "cell_type": "markdown",
   "metadata": {},
   "source": [
    "### Population Monte Carlo"
   ]
  },
  {
   "cell_type": "code",
   "execution_count": 2,
   "metadata": {},
   "outputs": [
    {
     "name": "stdout",
     "output_type": "stream",
     "text": [
      "Help on class pmc in module ais:\n",
      "\n",
      "class pmc(builtins.object)\n",
      " |  Population Monte Carlo class\n",
      " |  \n",
      " |  class properties:\n",
      " |      N: int: number of populations\n",
      " |      D: int: dimension of sampling space\n",
      " |      K: int: number of samples per-population\n",
      " |      mu: N*D nparray: population means\n",
      " |      C: D*D nparray: covariance of proposal distribution\n",
      " |      rho: float: tempering of target distribution\n",
      " |      resample_method: 'global' or 'local'\n",
      " |      x: N*K*D nparray: samples\n",
      " |      w: N*K nparray: sample weights\n",
      " |      logp = logtarget(x) : function: log target distribution\n",
      " |          x: M*D, nparray\n",
      " |          logp: M, nparray\n",
      " |  \n",
      " |  Methods defined here:\n",
      " |  \n",
      " |  __init__(self, mu0, K, logtarget)\n",
      " |      construction funciton\n",
      " |      inputs:\n",
      " |          mu0: N*D, nparray: initial means, also defines number and dimension of populations\n",
      " |          K: int: number of samples per population\n",
      " |          logp = logtarget(x) : function: log target distribution\n",
      " |              x: M*D, nparray\n",
      " |              logp: M, nparray\n",
      " |  \n",
      " |  sample(self)\n",
      " |      One iteration if the sampling procesdure\n",
      " |      outputs:\n",
      " |          outx: M*D nparray: sample locations of current iteration\n",
      " |          outlogw: M nparray: sample log weights of current iteration\n",
      " |  \n",
      " |  setRho(self, rho)\n",
      " |      set target distribution tempering\n",
      " |      inputs:\n",
      " |          rho: float: tempering the target by pi(.)^rho\n",
      " |  \n",
      " |  setSigma(self, sig)\n",
      " |      set the proposal covariance by the shared std of all dimension\n",
      " |      inputs:\n",
      " |          sig: float: std of all dimensions\n",
      " |  \n",
      " |  ----------------------------------------------------------------------\n",
      " |  Data descriptors defined here:\n",
      " |  \n",
      " |  __dict__\n",
      " |      dictionary for instance variables (if defined)\n",
      " |  \n",
      " |  __weakref__\n",
      " |      list of weak references to the object (if defined)\n",
      "\n"
     ]
    }
   ],
   "source": [
    "help(ais.pmc)"
   ]
  },
  {
   "cell_type": "code",
   "execution_count": 3,
   "metadata": {},
   "outputs": [
    {
     "name": "stdout",
     "output_type": "stream",
     "text": [
      "Using matplotlib backend: Qt5Agg\n"
     ]
    },
    {
     "name": "stderr",
     "output_type": "stream",
     "text": [
      "100%|██████████████████████████████████████████████████████████████████████████████████| 20/20 [00:05<00:00,  3.42it/s]\n"
     ]
    }
   ],
   "source": [
    "D = 6  # number of dimension of sampling space\n",
    "N = 50  # number of particles per population\n",
    "K = 20  # number of populations\n",
    "M = 20  # number of iterations\n",
    "\n",
    "# initial mean of each population\n",
    "mu0 = mvn.rvs(\n",
    "    mean=np.zeros(shape=D),\n",
    "    cov=np.eye(D) * 3,\n",
    "    size=N\n",
    ")\n",
    "# define target\n",
    "def logtarget(x): return fn.lognormal(x, D, mu=np.ones(D)*3)\n",
    "#def logtarget(x): return fn.logbanana(x, D) # uncomment to choose another target\n",
    "# define pmc object\n",
    "pmc = ais.pmc(mu0, K, logtarget)\n",
    "# choose resample method\n",
    "pmc.resample_method = \"local\"\n",
    "\n",
    "# proposal and tempering scheduling\n",
    "sig_plan = np.linspace(2, 0.1, num=M)\n",
    "rho_plan = np.linspace(0.1, 1, num=M)\n",
    "\n",
    "# space allocation\n",
    "x = np.zeros((0, D))\n",
    "logw = np.zeros((0))\n",
    "# figure frame for animatino\n",
    "%matplotlib\n",
    "plt.figure()\n",
    "for i in tqdm(range(M)):\n",
    "    # follow schedule\n",
    "    pmc.setSigma(sig_plan[i])\n",
    "    pmc.setRho(rho_plan[i])\n",
    "    # main operation\n",
    "    outx, outlogw = pmc.sample()\n",
    "    # accumulate results\n",
    "    x = np.concatenate((x, outx)) \n",
    "    logw = np.concatenate((logw, outlogw))\n",
    "    # animation\n",
    "    plt.clf()\n",
    "    fn.plotsamples(outx, fn.logw2w(outlogw))\n",
    "    plt.pause(0.01)\n",
    "# plot accumulated result\n",
    "plt.clf()\n",
    "fn.plotsamples(x, fn.logw2w(logw))\n",
    "plt.show()"
   ]
  }
 ],
 "metadata": {
  "kernelspec": {
   "display_name": "Python 3",
   "language": "python",
   "name": "python3"
  },
  "language_info": {
   "codemirror_mode": {
    "name": "ipython",
    "version": 3
   },
   "file_extension": ".py",
   "mimetype": "text/x-python",
   "name": "python",
   "nbconvert_exporter": "python",
   "pygments_lexer": "ipython3",
   "version": "3.6.8"
  }
 },
 "nbformat": 4,
 "nbformat_minor": 2
}
